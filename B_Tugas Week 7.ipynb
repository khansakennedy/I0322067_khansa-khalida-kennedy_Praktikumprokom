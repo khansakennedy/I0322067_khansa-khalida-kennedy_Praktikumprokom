{
 "cells": [
  {
   "cell_type": "code",
   "execution_count": 15,
   "metadata": {},
   "outputs": [
    {
     "data": {
      "text/plain": [
       "[[3, 4], [4, 3]]"
      ]
     },
     "execution_count": 15,
     "metadata": {},
     "output_type": "execute_result"
    }
   ],
   "source": [
    "#Buatlah sebuah fungsi untuk membuat matrix berdasarkan input dari user\n",
    "\n",
    "def create_matrix(baris,kolom):\n",
    "    matrix = []\n",
    "\n",
    "     #Tulis kode kamu disini\n",
    "    for a in range(baris):\n",
    "    # Tambahkan baris kosong ke matriks\n",
    "        matrix.append([])\n",
    "\n",
    "        for b in range(kolom):\n",
    "        # Meminta pengguna memasukkan elemen matriks\n",
    "            elemen = int(input(f\"Masukkan elemen matrix[{a}][{b}]: \"))\n",
    "            matrix[a].append(elemen)\n",
    "\n",
    "    return matrix\n",
    "\n",
    "baris = int(input('Masukkan Jumlah Baris:\\t'))\n",
    "kolom = int(input('Masukkan Jumlah Kolom:\\t'))\n",
    "\n",
    "create_matrix(baris,kolom)"
   ]
  },
  {
   "cell_type": "code",
   "execution_count": 11,
   "metadata": {},
   "outputs": [
    {
     "name": "stdout",
     "output_type": "stream",
     "text": [
      "[[-1  5]\n",
      " [-1  4]]\n"
     ]
    }
   ],
   "source": [
    "#Buatlah fungsi untuk melakukan pengurangan antar dua matrix berdasarkan input user\n",
    "import numpy as np\n",
    "def kurang_matrix(matrixA, matrixB):\n",
    "    kurang = []\n",
    "\n",
    "    #Tulis kode kamu disini\n",
    "    kurang = matrixA - matrixB\n",
    "    return kurang\n",
    "\n",
    "matrixA = np.array([[9,7],[4,6]])\n",
    "matrixB = np.array([[10,2],[5,2]])\n",
    "\n",
    "print(kurang_matrix(matrixA,matrixB))"
   ]
  },
  {
   "cell_type": "code",
   "execution_count": 16,
   "metadata": {},
   "outputs": [
    {
     "data": {
      "text/plain": [
       "[[4.5, 9.0], [3.0, 6.0]]"
      ]
     },
     "execution_count": 16,
     "metadata": {},
     "output_type": "execute_result"
    }
   ],
   "source": [
    "#Buatlah Fungsi untuk melakukan pembagian matrix dengan skalar berdasarkan input user\n",
    "\n",
    "def bagi_matrix(matrix1, skalar):\n",
    "    hasil = [[0,0],\n",
    "             [0,0]]\n",
    "\n",
    "    #Tulis kode kamu disini\n",
    "    for i in range(len(matrix1)):\n",
    "        for j in range(len(matrix1[i])):\n",
    "            hasil[i][j]=matrix1[i][j]/skalar\n",
    "\n",
    "    return hasil\n",
    "\n",
    "\n",
    "\n",
    "matrix1 = [[9,18],\n",
    "           [6,12]]\n",
    "skalar = int(input('Matrix dibagi berapa?\\t'))\n",
    "\n",
    "\n",
    "bagi_matrix(matrix1, skalar)"
   ]
  }
 ],
 "metadata": {
  "kernelspec": {
   "display_name": "Python 3",
   "language": "python",
   "name": "python3"
  },
  "language_info": {
   "codemirror_mode": {
    "name": "ipython",
    "version": 3
   },
   "file_extension": ".py",
   "mimetype": "text/x-python",
   "name": "python",
   "nbconvert_exporter": "python",
   "pygments_lexer": "ipython3",
   "version": "3.10.8"
  },
  "orig_nbformat": 4
 },
 "nbformat": 4,
 "nbformat_minor": 2
}
