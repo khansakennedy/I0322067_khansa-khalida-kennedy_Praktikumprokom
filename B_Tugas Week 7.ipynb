{
 "cells": [
  {
   "cell_type": "code",
   "execution_count": null,
   "metadata": {},
   "outputs": [],
   "source": [
    "#Buatlah sebuah fungsi untuk membuat matrix berdasarkan input dari user\n",
    "\n",
    "def create_matrix(baris,kolom):\n",
    "    matrix = []\n",
    "\n",
    "    #Tulis kode kamu disini\n",
    "        for a in range(baris):\n",
    "        matrix.append([])\n",
    "        \n",
    "        for b in range(kolom):\n",
    "            elemen = int(input(f\"masukkan elemen matriks[{a}][{b}]: \"))\n",
    "            matrix[z].append(elemen)\n",
    "\n",
    "    return matrix\n",
    "\n",
    "\n",
    "baris = int(input('Masukkan Jumlah Baris:\\t'))\n",
    "kolom = int(input('Masukkan Jumlah Kolom:\\t'))\n",
    "\n",
    "create_matrix(baris,kolom)"
   ]
  },
  {
   "cell_type": "code",
   "execution_count": null,
   "metadata": {},
   "outputs": [],
   "source": [
    "#Buatlah fungsi untuk melakukan pengurangan antar dua matrix berdasarkan input user\n",
    "\n",
    "def kurang_matrix(matrixA, matrixB):\n",
    "    kurang = [[0, 0],\n",
    "              [0, 0]]\n",
    "\n",
    "    #Tulis kode kamu disini\n",
    "    for a in range (len(matrixA)):\n",
    "        for b in range (len(matrixB[a])):\n",
    "            kurang[a][b] = matrixA[a][b]-matrixB[a][b]\n",
    "\n",
    "    return kurang\n",
    "\n",
    "matrixA = [[3, 5],\n",
    "           [4,7]]\n",
    "matrixB = [[6, 2],\n",
    "           [5, 9]]\n"
   ]
  },
  {
   "cell_type": "code",
   "execution_count": null,
   "metadata": {},
   "outputs": [],
   "source": [
    "#Buatlah Fungsi untuk melakukan pembagian matrix dengan skalar berdasarkan input user\n",
    "\n",
    "def bagi_matrix(matrix1, skalar):\n",
    "    hasil = [[0,0],\n",
    "             [0,0]]\n",
    "\n",
    "    #Tulis kode kamu disini\n",
    "    for i in range(len(matrix1)):\n",
    "        for j in range(len(matrix1[i])):\n",
    "            hasil[i][j]=matrix1[i][j]/skalar\n",
    "\n",
    "    return hasil\n",
    "\n",
    "\n",
    "\n",
    "matrix1 = [[9,18],\n",
    "           [6,12]]\n",
    "skalar = int(input('Matrix dibagi berapa?\\t'))\n",
    "\n",
    "\n",
    "bagi_matrix(matrix1, skalar)"
   ]
  }
 ],
 "metadata": {
  "language_info": {
   "name": "python"
  },
  "orig_nbformat": 4
 },
 "nbformat": 4,
 "nbformat_minor": 2
}
