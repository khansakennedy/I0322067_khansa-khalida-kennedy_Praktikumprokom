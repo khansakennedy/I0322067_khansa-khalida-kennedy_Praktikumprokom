{
 "cells": [
  {
   "cell_type": "code",
   "execution_count": 7,
   "metadata": {},
   "outputs": [],
   "source": [
    "print(input(\"Nama: \"))\n",
    "print(input(\"NIM: \"))\n",
    "print(input(\"Kelas: \"))"
   ]
  },
  {
   "attachments": {},
   "cell_type": "markdown",
   "metadata": {},
   "source": [
    "## 1."
   ]
  },
  {
   "attachments": {},
   "cell_type": "markdown",
   "metadata": {},
   "source": [
    "Buatlah program yang meminta input string dari user, kemudian program akan menentukan string tersebut adalah palyndrome atau bukan.<br>\n",
    "* Palyndrome adalah kata atau kalimat yang jika dibalik hasilnya sama\n",
    "* kasur rusak adalah palyndrome\n",
    "\n",
    "> *note: Kerjakan soal ini dengan percabangan*"
   ]
  },
  {
   "cell_type": "code",
   "execution_count": null,
   "metadata": {},
   "outputs": [
    {
     "name": "stdout",
     "output_type": "stream",
     "text": [
      "kasur adalah tidak palyndrome\n"
     ]
    }
   ],
   "source": [
    "# Kerjakan soal no 1 di sini\n",
    "kata = str(input(\"Masukkan kata:\"))\n",
    "hasil = kata[::-1]\n",
    "\n",
    "if kata == hasil :\n",
    "    print (kata,\"adalah palyndrome\")\n",
    "else :\n",
    "    print (kata,\"adalah tidak palyndrome\")"
   ]
  },
  {
   "attachments": {},
   "cell_type": "markdown",
   "metadata": {},
   "source": [
    "## 2."
   ]
  },
  {
   "attachments": {},
   "cell_type": "markdown",
   "metadata": {},
   "source": [
    "Buatlah program yang meminta input berupa tahun dan bulan kemudian tampilkan jumlah hari pada bulan tersebut (perbedaan pada tahun kabisat).<br>\n",
    "\n",
    "> *note: Kerjakan soal ini dengan percabangan*"
   ]
  },
  {
   "cell_type": "code",
   "execution_count": 6,
   "metadata": {},
   "outputs": [
    {
     "ename": "KeyError",
     "evalue": "'12'",
     "output_type": "error",
     "traceback": [
      "\u001b[1;31m---------------------------------------------------------------------------\u001b[0m",
      "\u001b[1;31mKeyError\u001b[0m                                  Traceback (most recent call last)",
      "Cell \u001b[1;32mIn[6], line 37\u001b[0m\n\u001b[0;32m      6\u001b[0m hari \u001b[39m=\u001b[39m {\u001b[39m\"\u001b[39m\u001b[39mbukan kabisat\u001b[39m\u001b[39m\"\u001b[39m:{\n\u001b[0;32m      7\u001b[0m     \u001b[39m\"\u001b[39m\u001b[39mjanuari\u001b[39m\u001b[39m\"\u001b[39m:\u001b[39m31\u001b[39m,\n\u001b[0;32m      8\u001b[0m     \u001b[39m\"\u001b[39m\u001b[39mfebruari\u001b[39m\u001b[39m\"\u001b[39m:\u001b[39m28\u001b[39m,\n\u001b[1;32m   (...)\u001b[0m\n\u001b[0;32m     33\u001b[0m  }\n\u001b[0;32m     34\u001b[0m }\n\u001b[0;32m     36\u001b[0m \u001b[39mif\u001b[39;00m tahun \u001b[39m%\u001b[39m \u001b[39m4\u001b[39m \u001b[39m==\u001b[39m \u001b[39m0\u001b[39m \u001b[39mand\u001b[39;00m (tahun \u001b[39m%\u001b[39m \u001b[39m100\u001b[39m \u001b[39m!=\u001b[39m \u001b[39m0\u001b[39m \u001b[39mor\u001b[39;00m tahun \u001b[39m%\u001b[39m \u001b[39m400\u001b[39m \u001b[39m==\u001b[39m \u001b[39m0\u001b[39m):\n\u001b[1;32m---> 37\u001b[0m     \u001b[39mprint\u001b[39m(\u001b[39m\"\u001b[39m\u001b[39mJumlah hari pada bulan\u001b[39m\u001b[39m\"\u001b[39m,bulan,\u001b[39m\"\u001b[39m\u001b[39mtahun\u001b[39m\u001b[39m\"\u001b[39m,tahun,\u001b[39m\"\u001b[39m\u001b[39madalah\u001b[39m\u001b[39m\"\u001b[39m,(hari[\u001b[39m\"\u001b[39;49m\u001b[39mkabisat\u001b[39;49m\u001b[39m\"\u001b[39;49m][bulan2]))\n\u001b[0;32m     38\u001b[0m \u001b[39melse\u001b[39;00m:\n\u001b[0;32m     39\u001b[0m     \u001b[39mprint\u001b[39m(\u001b[39m\"\u001b[39m\u001b[39mJumlah hari pada bulan\u001b[39m\u001b[39m\"\u001b[39m,bulan,\u001b[39m\"\u001b[39m\u001b[39mtahun\u001b[39m\u001b[39m\"\u001b[39m,tahun,\u001b[39m\"\u001b[39m\u001b[39madalah\u001b[39m\u001b[39m\"\u001b[39m,(hari[\u001b[39m\"\u001b[39m\u001b[39mbukan kabisat\u001b[39m\u001b[39m\"\u001b[39m][bulan2]))\n",
      "\u001b[1;31mKeyError\u001b[0m: '12'"
     ]
    }
   ],
   "source": [
    "# Kerjakan soal no 2 di sini\n",
    "tahun = int(input(\"Masukkan tahun:\"))\n",
    "bulan = input(\"Masukkan bulan:\")\n",
    "bulan2 = bulan.lower()\n",
    "\n",
    "hari = {\"bukan kabisat\":{\n",
    "    \"januari\":31,\n",
    "    \"februari\":28,\n",
    "    \"maret\":31,\n",
    "    \"april\":30,\n",
    "    \"mei\":31,\n",
    "    \"juni\":30,\n",
    "    \"juli\":31,\n",
    "    \"agustus\":31,\n",
    "    \"september\":30,\n",
    "    \"oktober\":31,\n",
    "    \"november\":30,\n",
    "    \"desember\":31\n",
    "},\n",
    "        \"kabisat\":{\n",
    "    \"januari\":31,\n",
    "    \"februari\":29,\n",
    "    \"maret\":31,\n",
    "    \"april\":30,\n",
    "    \"mei\":31,\n",
    "    \"juni\":30,\n",
    "    \"juli\":31,\n",
    "    \"agustus\":31,\n",
    "    \"september\":30,\n",
    "    \"oktober\":31,\n",
    "    \"november\":30,\n",
    "    \"desember\":31\n",
    " }\n",
    "}\n",
    "\n",
    "if tahun % 4 == 0 and (tahun % 100 != 0 or tahun % 400 == 0):\n",
    "    print(\"Jumlah hari pada bulan\",bulan,\"tahun\",tahun,\"adalah\",(hari[\"kabisat\"][bulan2]))\n",
    "else:\n",
    "    print(\"Jumlah hari pada bulan\",bulan,\"tahun\",tahun,\"adalah\",(hari[\"bukan kabisat\"][bulan2]))"
   ]
  }
 ],
 "metadata": {
  "kernelspec": {
   "display_name": "Python 3",
   "language": "python",
   "name": "python3"
  },
  "language_info": {
   "codemirror_mode": {
    "name": "ipython",
    "version": 3
   },
   "file_extension": ".py",
   "mimetype": "text/x-python",
   "name": "python",
   "nbconvert_exporter": "python",
   "pygments_lexer": "ipython3",
   "version": "3.10.8"
  },
  "orig_nbformat": 4
 },
 "nbformat": 4,
 "nbformat_minor": 2
}
